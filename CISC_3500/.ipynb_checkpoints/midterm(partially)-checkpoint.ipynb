{
 "cells": [
  {
   "cell_type": "markdown",
   "id": "7d34fdfd",
   "metadata": {},
   "source": [
    "Write a SQL query to find the names of sailors who reserved all non-blue boats and explain your answer. (not finished)"
   ]
  },
  {
   "cell_type": "code",
   "execution_count": null,
   "id": "d82e80d8",
   "metadata": {},
   "outputs": [],
   "source": [
    "%%sql Select s.sname\n",
    "From sailors s, boats b, reserves r\n",
    "where s.sid=r.sid and b.bid=r.bid\n",
    "Group by s.sid\n",
    "having NOT EXISTS (b.color NOT IN(Select b1.color\n",
    "                                From boats b1, reserves r\n",
    "                                    where b1.bid=r.bid and b.color <> 'blue'))\n",
    "\n"
   ]
  },
  {
   "cell_type": "markdown",
   "id": "5cd4e645",
   "metadata": {},
   "source": [
    "find the IDs of boats with the most popular color (the color that is used by the largest number of boats)."
   ]
  },
  {
   "cell_type": "code",
   "execution_count": null,
   "id": "179d7b2c",
   "metadata": {},
   "outputs": [],
   "source": [
    "%%sql Select b.bid\n",
    "From boats b,\n",
    "     (Select b1.color,b1.bid,count(*) As count\n",
    "      From boats b1\n",
    "      group by b1.color) as v\n",
    "where b.color=v.color and v.count = (select MAX(v1.count) --most popular color's count\n",
    "                                 From ((select b.color, count(*) As count\n",
    "                                        From boats b1\n",
    "                                        Group by b1.color) as v1))"
   ]
  },
  {
   "cell_type": "code",
   "execution_count": null,
   "id": "1c15d0be",
   "metadata": {},
   "outputs": [],
   "source": [
    "%%sql Select a.color \n",
    "From (Select b.color, r.sid\n",
    "     From reserves r, boats b\n",
    "     where r.bid=b.bid) as a\n",
    "Group by a.color\n",
    "Having COUNT(a.sid)>1"
   ]
  },
  {
   "cell_type": "code",
   "execution_count": null,
   "id": "2ec7c500",
   "metadata": {},
   "outputs": [],
   "source": [
    "%%sql Select sname \n",
    "From (Select r.bid, s.sname, s.sid\n",
    "     From reserves r, sailors s\n",
    "     where r.sid=s.sid) as a\n",
    "Group by a.sid\n",
    "Having COUNT(a.bid)=2"
   ]
  },
  {
   "cell_type": "markdown",
   "id": "ab2dd397",
   "metadata": {},
   "source": [
    "find the name of sailors who has the highest rating of the same age"
   ]
  },
  {
   "cell_type": "code",
   "execution_count": null,
   "id": "87e26fbb",
   "metadata": {},
   "outputs": [],
   "source": [
    "%%sql Select s.sname \n",
    "From sailors s\n",
    "Group by s.age\n",
    "Having s.rating = MAX(s.rating)"
   ]
  },
  {
   "cell_type": "markdown",
   "id": "9d2b7212",
   "metadata": {},
   "source": [
    "Write a SQL query to find the average number boats reserved by each rating level. "
   ]
  },
  {
   "cell_type": "code",
   "execution_count": null,
   "id": "62c79e25",
   "metadata": {},
   "outputs": [],
   "source": [
    "%%sql Select *\n",
    "From (Select s.rating, COUNT(r.bid) AS count\n",
    "      from reserves r, sailors s\n",
    "      where r.sid=s.sid\n",
    "      group by s.rating) as v"
   ]
  }
 ],
 "metadata": {
  "kernelspec": {
   "display_name": "Python 3 (ipykernel)",
   "language": "python",
   "name": "python3"
  },
  "language_info": {
   "codemirror_mode": {
    "name": "ipython",
    "version": 3
   },
   "file_extension": ".py",
   "mimetype": "text/x-python",
   "name": "python",
   "nbconvert_exporter": "python",
   "pygments_lexer": "ipython3",
   "version": "3.9.7"
  }
 },
 "nbformat": 4,
 "nbformat_minor": 5
}
