{
 "cells": [
  {
   "cell_type": "code",
   "execution_count": 2,
   "id": "a13ca014",
   "metadata": {},
   "outputs": [],
   "source": [
    "%load_ext sql"
   ]
  },
  {
   "cell_type": "markdown",
   "id": "e132626f",
   "metadata": {},
   "source": [
    "Q1: create my own database named lab2.db3."
   ]
  },
  {
   "cell_type": "code",
   "execution_count": 3,
   "id": "44f3707b",
   "metadata": {},
   "outputs": [
    {
     "data": {
      "text/plain": [
       "'Connected: @lab2.db3'"
      ]
     },
     "execution_count": 3,
     "metadata": {},
     "output_type": "execute_result"
    }
   ],
   "source": [
    "%sql sqlite:///lab2.db3"
   ]
  },
  {
   "cell_type": "markdown",
   "id": "5d4b7cd7",
   "metadata": {},
   "source": [
    "Q2: Write SQL statements to create the three tables and insert the data"
   ]
  },
  {
   "cell_type": "code",
   "execution_count": 19,
   "id": "728e9082",
   "metadata": {},
   "outputs": [
    {
     "name": "stdout",
     "output_type": "stream",
     "text": [
      " * sqlite:///lab2.db3\n",
      "Done.\n",
      "Done.\n",
      "1 rows affected.\n",
      "1 rows affected.\n",
      "1 rows affected.\n",
      "1 rows affected.\n",
      "1 rows affected.\n",
      "1 rows affected.\n",
      "Done.\n",
      "Done.\n",
      "1 rows affected.\n",
      "1 rows affected.\n",
      "1 rows affected.\n",
      "Done.\n",
      "Done.\n",
      "1 rows affected.\n",
      "1 rows affected.\n",
      "1 rows affected.\n",
      "1 rows affected.\n",
      "1 rows affected.\n"
     ]
    },
    {
     "data": {
      "text/plain": [
       "[]"
      ]
     },
     "execution_count": 19,
     "metadata": {},
     "output_type": "execute_result"
    }
   ],
   "source": [
    "%%sql drop table if exists sailors;\n",
    "create table sailors(\n",
    "       sid          varchar primary key,   -- id number of the sailors\n",
    "       sname        varchar,               -- name of the sailor\n",
    "       rating       int,                   -- rating of the sailor\n",
    "       age          int                    -- age of the sailor\n",
    ");\n",
    "\n",
    "insert into sailors values('001', 'Vic', 5, 23);\n",
    "insert into sailors values('002', 'tom', 3, 25);\n",
    "insert into sailors values('003', 'sam', 4, 27);\n",
    "insert into sailors values('004', 'mia', 5, 28);\n",
    "insert into sailors values('005', 'tim', 5, 25);\n",
    "insert into sailors values('006', 'Kat', 4, 23);\n",
    "\n",
    "drop table if exists boats;\n",
    "create table boats(\n",
    "       bid          varchar primary key,   -- id number of the boats\n",
    "       name         varchar,               -- name of the boat\n",
    "       color        varchar                -- color of the boat\n",
    ");\n",
    "\n",
    "insert into boats values('110', 'abb', 'red');\n",
    "insert into boats values('120', 'abc', 'blue');\n",
    "insert into boats values('130', 'aba', 'green');\n",
    "\n",
    "drop table if exists reserves;\n",
    "create table reserves(\n",
    "       sid          varchar NOT NULL,      -- id number of the sailors\n",
    "       bid          varchar NOT NULL,      -- id number of the booked boat\n",
    "       day          int\n",
    ");\n",
    "\n",
    "insert into reserves values('001', '110', 3);\n",
    "insert into reserves values('001', '120', 4);\n",
    "insert into reserves values('002', '120', 3);\n",
    "insert into reserves values('002', '130', 3);\n",
    "insert into reserves values('003', '130', 5);"
   ]
  },
  {
   "cell_type": "markdown",
   "id": "6855635f",
   "metadata": {},
   "source": [
    "Q3: Find names of sailors who’ve reserved boat #110."
   ]
  },
  {
   "cell_type": "code",
   "execution_count": 20,
   "id": "38ab8daf",
   "metadata": {},
   "outputs": [
    {
     "name": "stdout",
     "output_type": "stream",
     "text": [
      " * sqlite:///lab2.db3\n",
      "Done.\n"
     ]
    },
    {
     "data": {
      "text/html": [
       "<table>\n",
       "    <thead>\n",
       "        <tr>\n",
       "            <th>sname</th>\n",
       "        </tr>\n",
       "    </thead>\n",
       "    <tbody>\n",
       "        <tr>\n",
       "            <td>Vic</td>\n",
       "        </tr>\n",
       "    </tbody>\n",
       "</table>"
      ],
      "text/plain": [
       "[('Vic',)]"
      ]
     },
     "execution_count": 20,
     "metadata": {},
     "output_type": "execute_result"
    }
   ],
   "source": [
    "%%sql Select distinct s.sname \n",
    "From sailors s, reserves r\n",
    "Where s.sid=r.sid and r.bid='110'"
   ]
  },
  {
   "cell_type": "markdown",
   "id": "ffea1a5d",
   "metadata": {},
   "source": [
    "Q4: Find names of sailors who’ve reserved a red boat."
   ]
  },
  {
   "cell_type": "code",
   "execution_count": 21,
   "id": "f312776f",
   "metadata": {},
   "outputs": [
    {
     "name": "stdout",
     "output_type": "stream",
     "text": [
      " * sqlite:///lab2.db3\n",
      "Done.\n"
     ]
    },
    {
     "data": {
      "text/html": [
       "<table>\n",
       "    <thead>\n",
       "        <tr>\n",
       "            <th>sname</th>\n",
       "        </tr>\n",
       "    </thead>\n",
       "    <tbody>\n",
       "        <tr>\n",
       "            <td>Vic</td>\n",
       "        </tr>\n",
       "    </tbody>\n",
       "</table>"
      ],
      "text/plain": [
       "[('Vic',)]"
      ]
     },
     "execution_count": 21,
     "metadata": {},
     "output_type": "execute_result"
    }
   ],
   "source": [
    "%%sql Select distinct s.sname \n",
    "From sailors s, reserves r, boats b\n",
    "Where s.sid=r.sid and b.bid=r.bid and b.color='red'"
   ]
  },
  {
   "cell_type": "markdown",
   "id": "d241d642",
   "metadata": {},
   "source": [
    "Q5: Find names of sailors who’ve reserved a red or a blue boat."
   ]
  },
  {
   "cell_type": "code",
   "execution_count": 22,
   "id": "c3760301",
   "metadata": {},
   "outputs": [
    {
     "name": "stdout",
     "output_type": "stream",
     "text": [
      " * sqlite:///lab2.db3\n",
      "Done.\n"
     ]
    },
    {
     "data": {
      "text/html": [
       "<table>\n",
       "    <thead>\n",
       "        <tr>\n",
       "            <th>sname</th>\n",
       "        </tr>\n",
       "    </thead>\n",
       "    <tbody>\n",
       "        <tr>\n",
       "            <td>Vic</td>\n",
       "        </tr>\n",
       "        <tr>\n",
       "            <td>tom</td>\n",
       "        </tr>\n",
       "    </tbody>\n",
       "</table>"
      ],
      "text/plain": [
       "[('Vic',), ('tom',)]"
      ]
     },
     "execution_count": 22,
     "metadata": {},
     "output_type": "execute_result"
    }
   ],
   "source": [
    "%%sql Select distinct s.sname \n",
    "From sailors s, reserves r, boats b\n",
    "Where s.sid=r.sid and b.bid=r.bid and (b.color='red' or b.color='blue')"
   ]
  },
  {
   "cell_type": "markdown",
   "id": "aa2579cf",
   "metadata": {},
   "source": [
    "Q6: Find names of sailors who’ve reserved a red and a blue boat (nested query)."
   ]
  },
  {
   "cell_type": "code",
   "execution_count": 23,
   "id": "33e9b96d",
   "metadata": {},
   "outputs": [
    {
     "name": "stdout",
     "output_type": "stream",
     "text": [
      " * sqlite:///lab2.db3\n",
      "Done.\n"
     ]
    },
    {
     "data": {
      "text/html": [
       "<table>\n",
       "    <thead>\n",
       "        <tr>\n",
       "            <th>sname</th>\n",
       "        </tr>\n",
       "    </thead>\n",
       "    <tbody>\n",
       "        <tr>\n",
       "            <td>Vic</td>\n",
       "        </tr>\n",
       "    </tbody>\n",
       "</table>"
      ],
      "text/plain": [
       "[('Vic',)]"
      ]
     },
     "execution_count": 23,
     "metadata": {},
     "output_type": "execute_result"
    }
   ],
   "source": [
    "%%sql Select distinct redname.sname \n",
    "From (Select *                                                   -- select sailors who reserves red boats \n",
    "    From sailors s, reserves r, boats b\n",
    "    Where s.sid=r.sid and b.bid=r.bid and b.color='red') redname,\n",
    "    (Select *                                                    -- select sailors who reserves blue boats\n",
    "    From sailors s, reserves r, boats b\n",
    "    Where s.sid=r.sid and b.bid=r.bid and b.color='blue') bluename\n",
    "Where redname.sid=bluename.sid                     -- i use sid here just to avoid bugs by sailors have the same name"
   ]
  },
  {
   "cell_type": "markdown",
   "id": "bdf28def",
   "metadata": {},
   "source": [
    "Q7: Find names of sailors who’ve reserved only blue boats."
   ]
  },
  {
   "cell_type": "code",
   "execution_count": 24,
   "id": "bac024a9",
   "metadata": {},
   "outputs": [
    {
     "name": "stdout",
     "output_type": "stream",
     "text": [
      " * sqlite:///lab2.db3\n",
      "Done.\n"
     ]
    },
    {
     "data": {
      "text/html": [
       "<table>\n",
       "    <thead>\n",
       "        <tr>\n",
       "            <th>sname</th>\n",
       "        </tr>\n",
       "    </thead>\n",
       "    <tbody>\n",
       "    </tbody>\n",
       "</table>"
      ],
      "text/plain": [
       "[]"
      ]
     },
     "execution_count": 24,
     "metadata": {},
     "output_type": "execute_result"
    }
   ],
   "source": [
    "%%sql Select S.sname\n",
    "From sailors S, reserves R, boats B\n",
    "Where S.sid = R.sid and R.bid = B.bid and B.color = 'blue'       -- find sailor who reserved blue boat\n",
    "except                                                           -- set difference\n",
    "Select S2.sname\n",
    "From sailors S2, reserves R2, boats B2\n",
    "Where S2.sid = R2.sid and R2.bid = B2.bid and B2.color != 'blue' --find sailor who reserved boats that is not blue"
   ]
  },
  {
   "cell_type": "markdown",
   "id": "cba3afcd",
   "metadata": {},
   "source": [
    "Q8: Find the average age of sailors for each rating level that has at least two sailors."
   ]
  },
  {
   "cell_type": "code",
   "execution_count": 25,
   "id": "954bf5d7",
   "metadata": {},
   "outputs": [
    {
     "name": "stdout",
     "output_type": "stream",
     "text": [
      " * sqlite:///lab2.db3\n",
      "Done.\n"
     ]
    },
    {
     "data": {
      "text/html": [
       "<table>\n",
       "    <thead>\n",
       "        <tr>\n",
       "            <th>rating</th>\n",
       "            <th>avgage</th>\n",
       "        </tr>\n",
       "    </thead>\n",
       "    <tbody>\n",
       "        <tr>\n",
       "            <td>4</td>\n",
       "            <td>25.0</td>\n",
       "        </tr>\n",
       "        <tr>\n",
       "            <td>5</td>\n",
       "            <td>25.333333333333332</td>\n",
       "        </tr>\n",
       "    </tbody>\n",
       "</table>"
      ],
      "text/plain": [
       "[(4, 25.0), (5, 25.333333333333332)]"
      ]
     },
     "execution_count": 25,
     "metadata": {},
     "output_type": "execute_result"
    }
   ],
   "source": [
    "%%sql Select S.rating, AVG(S.age) AS avgage\n",
    "From sailors S\n",
    "Group By S.rating\n",
    "Having COUNT(*) > 1 "
   ]
  },
  {
   "cell_type": "markdown",
   "id": "fb01f4df",
   "metadata": {},
   "source": [
    "Q9: Find the average number boats reserved by each sailor."
   ]
  },
  {
   "cell_type": "code",
   "execution_count": 26,
   "id": "07f93bfa",
   "metadata": {},
   "outputs": [
    {
     "name": "stdout",
     "output_type": "stream",
     "text": [
      " * sqlite:///lab2.db3\n",
      "Done.\n"
     ]
    },
    {
     "data": {
      "text/html": [
       "<table>\n",
       "    <thead>\n",
       "        <tr>\n",
       "            <th>AVG(count)</th>\n",
       "        </tr>\n",
       "    </thead>\n",
       "    <tbody>\n",
       "        <tr>\n",
       "            <td>1.6666666666666667</td>\n",
       "        </tr>\n",
       "    </tbody>\n",
       "</table>"
      ],
      "text/plain": [
       "[(1.6666666666666667,)]"
      ]
     },
     "execution_count": 26,
     "metadata": {},
     "output_type": "execute_result"
    }
   ],
   "source": [
    "%%sql Select AVG(count)\n",
    "from (Select COUNT(*) AS count\n",
    "      from reserves v1\n",
    "      group by v1.sid) --we count how many boats each sailor has reserves\n",
    "--my understanding is that we find how many boats each sailor has reserves\n",
    "--add the number together and get the average"
   ]
  },
  {
   "cell_type": "markdown",
   "id": "42f5bba6",
   "metadata": {},
   "source": [
    "Q10: Find the name of the boat that is most popular one (reserved the most)."
   ]
  },
  {
   "cell_type": "code",
   "execution_count": 27,
   "id": "5de76683",
   "metadata": {},
   "outputs": [
    {
     "name": "stdout",
     "output_type": "stream",
     "text": [
      " * sqlite:///lab2.db3\n",
      "Done.\n"
     ]
    },
    {
     "data": {
      "text/html": [
       "<table>\n",
       "    <thead>\n",
       "        <tr>\n",
       "            <th>name</th>\n",
       "            <th>count</th>\n",
       "        </tr>\n",
       "    </thead>\n",
       "    <tbody>\n",
       "        <tr>\n",
       "            <td>abc</td>\n",
       "            <td>2</td>\n",
       "        </tr>\n",
       "        <tr>\n",
       "            <td>aba</td>\n",
       "            <td>2</td>\n",
       "        </tr>\n",
       "    </tbody>\n",
       "</table>"
      ],
      "text/plain": [
       "[('abc', 2), ('aba', 2)]"
      ]
     },
     "execution_count": 27,
     "metadata": {},
     "output_type": "execute_result"
    }
   ],
   "source": [
    "%%sql Select b.name, v.count\n",
    "From  boats b,\n",
    "      (Select v.bid, count(*) As count\n",
    "      From reserves v\n",
    "      group by v.bid) as v\n",
    "Where v.bid = b.bid and v.count = (select MAX(v1.count)\n",
    "                                    From ((select v.bid, count(*) As count\n",
    "                                           From reserves v\n",
    "                                          Group by v.bid) as v1))\n"
   ]
  },
  {
   "cell_type": "code",
   "execution_count": 28,
   "id": "8944cb00",
   "metadata": {},
   "outputs": [
    {
     "name": "stdout",
     "output_type": "stream",
     "text": [
      " * sqlite:///lab2.db3\n",
      "Done.\n"
     ]
    },
    {
     "data": {
      "text/html": [
       "<table>\n",
       "    <thead>\n",
       "        <tr>\n",
       "            <th>color</th>\n",
       "        </tr>\n",
       "    </thead>\n",
       "    <tbody>\n",
       "        <tr>\n",
       "            <td>blue</td>\n",
       "        </tr>\n",
       "        <tr>\n",
       "            <td>green</td>\n",
       "        </tr>\n",
       "    </tbody>\n",
       "</table>"
      ],
      "text/plain": [
       "[('blue',), ('green',)]"
      ]
     },
     "execution_count": 28,
     "metadata": {},
     "output_type": "execute_result"
    }
   ],
   "source": [
    "%%sql Select a.color \n",
    "From (Select b.color, r.sid\n",
    "     From reserves r, boats b\n",
    "     where r.bid=b.bid) as a\n",
    "Group by a.color\n",
    "Having COUNT(a.sid)>1"
   ]
  },
  {
   "cell_type": "markdown",
   "id": "b485330b",
   "metadata": {},
   "source": [
    "4.\tWrite a SQL query to find the sailor’s name who reserved exactly 2 boats (hint: you should use aggregations)."
   ]
  },
  {
   "cell_type": "code",
   "execution_count": 29,
   "id": "c2b39871",
   "metadata": {},
   "outputs": [
    {
     "name": "stdout",
     "output_type": "stream",
     "text": [
      " * sqlite:///lab2.db3\n",
      "Done.\n"
     ]
    },
    {
     "data": {
      "text/html": [
       "<table>\n",
       "    <thead>\n",
       "        <tr>\n",
       "            <th>sname</th>\n",
       "        </tr>\n",
       "    </thead>\n",
       "    <tbody>\n",
       "        <tr>\n",
       "            <td>Vic</td>\n",
       "        </tr>\n",
       "        <tr>\n",
       "            <td>tom</td>\n",
       "        </tr>\n",
       "    </tbody>\n",
       "</table>"
      ],
      "text/plain": [
       "[('Vic',), ('tom',)]"
      ]
     },
     "execution_count": 29,
     "metadata": {},
     "output_type": "execute_result"
    }
   ],
   "source": [
    "%%sql Select sname \n",
    "From (Select r.bid, s.sname, s.sid\n",
    "     From reserves r, sailors s\n",
    "     where r.sid=s.sid) as a\n",
    "Group by a.sid\n",
    "Having COUNT(a.bid)=2"
   ]
  },
  {
   "cell_type": "markdown",
   "id": "ef7178d6",
   "metadata": {},
   "source": [
    "find the name of sailors who has the highest rating of the same age"
   ]
  },
  {
   "cell_type": "code",
   "execution_count": 33,
   "id": "c7cb706b",
   "metadata": {},
   "outputs": [
    {
     "name": "stdout",
     "output_type": "stream",
     "text": [
      " * sqlite:///lab2.db3\n",
      "Done.\n"
     ]
    },
    {
     "data": {
      "text/html": [
       "<table>\n",
       "    <thead>\n",
       "        <tr>\n",
       "            <th>sname</th>\n",
       "        </tr>\n",
       "    </thead>\n",
       "    <tbody>\n",
       "        <tr>\n",
       "            <td>Vic</td>\n",
       "        </tr>\n",
       "        <tr>\n",
       "            <td>tim</td>\n",
       "        </tr>\n",
       "        <tr>\n",
       "            <td>sam</td>\n",
       "        </tr>\n",
       "        <tr>\n",
       "            <td>mia</td>\n",
       "        </tr>\n",
       "    </tbody>\n",
       "</table>"
      ],
      "text/plain": [
       "[('Vic',), ('tim',), ('sam',), ('mia',)]"
      ]
     },
     "execution_count": 33,
     "metadata": {},
     "output_type": "execute_result"
    }
   ],
   "source": [
    "%%sql Select s.sname \n",
    "From sailors s\n",
    "Group by s.age\n",
    "Having s.rating = MAX(s.rating)"
   ]
  },
  {
   "cell_type": "markdown",
   "id": "84770ae3",
   "metadata": {},
   "source": [
    "Write a SQL query to find the average number boats reserved by each rating level. "
   ]
  },
  {
   "cell_type": "code",
   "execution_count": 46,
   "id": "1cef0fc8",
   "metadata": {},
   "outputs": [
    {
     "name": "stdout",
     "output_type": "stream",
     "text": [
      " * sqlite:///lab2.db3\n",
      "Done.\n"
     ]
    },
    {
     "data": {
      "text/html": [
       "<table>\n",
       "    <thead>\n",
       "        <tr>\n",
       "            <th>rating</th>\n",
       "            <th>count</th>\n",
       "        </tr>\n",
       "    </thead>\n",
       "    <tbody>\n",
       "        <tr>\n",
       "            <td>3</td>\n",
       "            <td>2</td>\n",
       "        </tr>\n",
       "        <tr>\n",
       "            <td>4</td>\n",
       "            <td>1</td>\n",
       "        </tr>\n",
       "        <tr>\n",
       "            <td>5</td>\n",
       "            <td>2</td>\n",
       "        </tr>\n",
       "    </tbody>\n",
       "</table>"
      ],
      "text/plain": [
       "[(3, 2), (4, 1), (5, 2)]"
      ]
     },
     "execution_count": 46,
     "metadata": {},
     "output_type": "execute_result"
    }
   ],
   "source": [
    "%%sql Select *\n",
    "From (Select s.rating, COUNT(r.bid) AS count\n",
    "      from reserves r, sailors s\n",
    "      where r.sid=s.sid\n",
    "      group by s.rating) as v"
   ]
  },
  {
   "cell_type": "markdown",
   "id": "6e7da796",
   "metadata": {},
   "source": [
    "find the IDs of boats with the most popular color (the color that is used by the largest number of boats)."
   ]
  },
  {
   "cell_type": "code",
   "execution_count": 47,
   "id": "ed6c7706",
   "metadata": {},
   "outputs": [
    {
     "name": "stdout",
     "output_type": "stream",
     "text": [
      " * sqlite:///lab2.db3\n",
      "(sqlite3.OperationalError) near \"(\": syntax error\n",
      "[SQL: Select b.bid\n",
      "From boat b\n",
      "     (Select b.color, count(*) As count\n",
      "      From boat b1\n",
      "      group by b1.color) as v\n",
      "where b.color IN ()\n",
      "\n",
      "%%sql Select b.name, v.count\n",
      "From  boats b,\n",
      "      (Select v.bid, count(*) As count\n",
      "      From reserves v\n",
      "      group by v.bid) as v\n",
      "Where v.bid = b.bid and v.count = (select MAX(v1.count)\n",
      "                                    From ((select v.bid, count(*) As count\n",
      "                                           From reserves v\n",
      "                                          Group by v.bid) as v1))]\n",
      "(Background on this error at: https://sqlalche.me/e/14/e3q8)\n"
     ]
    }
   ],
   "source": [
    "%%sql Select b.bid\n",
    "From boat b\n",
    "     (Select b.color, count(*) As count\n",
    "      From boat b1\n",
    "      group by b1.color) as v\n",
    "where b.color IN ()\n",
    "\n",
    "%%sql Select b.name, v.count\n",
    "From  boats b,\n",
    "      (Select v.bid, count(*) As count\n",
    "      From reserves v\n",
    "      group by v.bid) as v\n",
    "Where v.bid = b.bid and v.count = (select MAX(v1.count)\n",
    "                                    From ((select v.bid, count(*) As count\n",
    "                                           From reserves v\n",
    "                                          Group by v.bid) as v1))\n"
   ]
  },
  {
   "cell_type": "code",
   "execution_count": null,
   "id": "05d886cb",
   "metadata": {},
   "outputs": [],
   "source": []
  }
 ],
 "metadata": {
  "kernelspec": {
   "display_name": "Python 3 (ipykernel)",
   "language": "python",
   "name": "python3"
  },
  "language_info": {
   "codemirror_mode": {
    "name": "ipython",
    "version": 3
   },
   "file_extension": ".py",
   "mimetype": "text/x-python",
   "name": "python",
   "nbconvert_exporter": "python",
   "pygments_lexer": "ipython3",
   "version": "3.9.7"
  }
 },
 "nbformat": 4,
 "nbformat_minor": 5
}
