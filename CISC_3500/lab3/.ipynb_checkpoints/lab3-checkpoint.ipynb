{
 "cells": [
  {
   "cell_type": "markdown",
   "id": "ab12648d",
   "metadata": {},
   "source": [
    "SiYi He"
   ]
  },
  {
   "cell_type": "code",
   "execution_count": 1,
   "id": "1c316d14",
   "metadata": {},
   "outputs": [],
   "source": [
    "%load_ext sql"
   ]
  },
  {
   "cell_type": "code",
   "execution_count": 2,
   "id": "def2aedb",
   "metadata": {},
   "outputs": [
    {
     "data": {
      "text/plain": [
       "'Connected: @lab3.db3'"
      ]
     },
     "execution_count": 2,
     "metadata": {},
     "output_type": "execute_result"
    }
   ],
   "source": [
    "%sql sqlite:///lab3.db3"
   ]
  },
  {
   "cell_type": "code",
   "execution_count": 9,
   "id": "a5eb304a",
   "metadata": {},
   "outputs": [
    {
     "name": "stdout",
     "output_type": "stream",
     "text": [
      " * sqlite:///lab3.db3\n",
      "Done.\n"
     ]
    },
    {
     "data": {
      "text/html": [
       "<table>\n",
       "    <thead>\n",
       "        <tr>\n",
       "            <th>sno</th>\n",
       "            <th>cno</th>\n",
       "            <th>grade</th>\n",
       "        </tr>\n",
       "    </thead>\n",
       "    <tbody>\n",
       "        <tr>\n",
       "            <td>103</td>\n",
       "            <td>3-245</td>\n",
       "            <td>86</td>\n",
       "        </tr>\n",
       "        <tr>\n",
       "            <td>105</td>\n",
       "            <td>3-245</td>\n",
       "            <td>75</td>\n",
       "        </tr>\n",
       "        <tr>\n",
       "            <td>109</td>\n",
       "            <td>3-245</td>\n",
       "            <td>68</td>\n",
       "        </tr>\n",
       "        <tr>\n",
       "            <td>103</td>\n",
       "            <td>3-105</td>\n",
       "            <td>92</td>\n",
       "        </tr>\n",
       "        <tr>\n",
       "            <td>105</td>\n",
       "            <td>3-105</td>\n",
       "            <td>88</td>\n",
       "        </tr>\n",
       "        <tr>\n",
       "            <td>109</td>\n",
       "            <td>3-105</td>\n",
       "            <td>76</td>\n",
       "        </tr>\n",
       "        <tr>\n",
       "            <td>101</td>\n",
       "            <td>3-105</td>\n",
       "            <td>64</td>\n",
       "        </tr>\n",
       "        <tr>\n",
       "            <td>107</td>\n",
       "            <td>3-105</td>\n",
       "            <td>91</td>\n",
       "        </tr>\n",
       "        <tr>\n",
       "            <td>108</td>\n",
       "            <td>3-105</td>\n",
       "            <td>78</td>\n",
       "        </tr>\n",
       "        <tr>\n",
       "            <td>101</td>\n",
       "            <td>6-166</td>\n",
       "            <td>85</td>\n",
       "        </tr>\n",
       "        <tr>\n",
       "            <td>107</td>\n",
       "            <td>6-106</td>\n",
       "            <td>79</td>\n",
       "        </tr>\n",
       "        <tr>\n",
       "            <td>108</td>\n",
       "            <td>6-166</td>\n",
       "            <td>81</td>\n",
       "        </tr>\n",
       "    </tbody>\n",
       "</table>"
      ],
      "text/plain": [
       "[('103', '3-245', 86),\n",
       " ('105', '3-245', 75),\n",
       " ('109', '3-245', 68),\n",
       " ('103', '3-105', 92),\n",
       " ('105', '3-105', 88),\n",
       " ('109', '3-105', 76),\n",
       " ('101', '3-105', 64),\n",
       " ('107', '3-105', 91),\n",
       " ('108', '3-105', 78),\n",
       " ('101', '6-166', 85),\n",
       " ('107', '6-106', 79),\n",
       " ('108', '6-166', 81)]"
      ]
     },
     "execution_count": 9,
     "metadata": {},
     "output_type": "execute_result"
    }
   ],
   "source": [
    "%%sql\n",
    "SELECT *\n",
    "FROM scores;"
   ]
  },
  {
   "cell_type": "code",
   "execution_count": 16,
   "id": "3c9a3f41",
   "metadata": {},
   "outputs": [
    {
     "name": "stdout",
     "output_type": "stream",
     "text": [
      " * sqlite:///lab3.db3\n",
      "Done.\n"
     ]
    },
    {
     "data": {
      "text/html": [
       "<table>\n",
       "    <thead>\n",
       "        <tr>\n",
       "            <th>sno</th>\n",
       "            <th>sname</th>\n",
       "            <th>sgender</th>\n",
       "            <th>sbirthday</th>\n",
       "            <th>class</th>\n",
       "        </tr>\n",
       "    </thead>\n",
       "    <tbody>\n",
       "        <tr>\n",
       "            <td>108</td>\n",
       "            <td>Peter</td>\n",
       "            <td>M</td>\n",
       "            <td>1997-09-01</td>\n",
       "            <td>15033</td>\n",
       "        </tr>\n",
       "        <tr>\n",
       "            <td>105</td>\n",
       "            <td>Gary</td>\n",
       "            <td>M</td>\n",
       "            <td>1995-10-02</td>\n",
       "            <td>15031</td>\n",
       "        </tr>\n",
       "        <tr>\n",
       "            <td>107</td>\n",
       "            <td>Lily</td>\n",
       "            <td>F</td>\n",
       "            <td>1996-01-23</td>\n",
       "            <td>15033</td>\n",
       "        </tr>\n",
       "        <tr>\n",
       "            <td>101</td>\n",
       "            <td>Alex</td>\n",
       "            <td>M</td>\n",
       "            <td>1996-02-20</td>\n",
       "            <td>15033</td>\n",
       "        </tr>\n",
       "        <tr>\n",
       "            <td>109</td>\n",
       "            <td>Eva</td>\n",
       "            <td>F</td>\n",
       "            <td>1995-02-10</td>\n",
       "            <td>15031</td>\n",
       "        </tr>\n",
       "        <tr>\n",
       "            <td>103</td>\n",
       "            <td>Quincy</td>\n",
       "            <td>M</td>\n",
       "            <td>1994-06-03</td>\n",
       "            <td>15031</td>\n",
       "        </tr>\n",
       "    </tbody>\n",
       "</table>"
      ],
      "text/plain": [
       "[('108', 'Peter', 'M', '1997-09-01', '15033'),\n",
       " ('105', 'Gary', 'M', '1995-10-02', '15031'),\n",
       " ('107', 'Lily', 'F', '1996-01-23', '15033'),\n",
       " ('101', 'Alex', 'M', '1996-02-20', '15033'),\n",
       " ('109', 'Eva', 'F', '1995-02-10', '15031'),\n",
       " ('103', 'Quincy', 'M', '1994-06-03', '15031')]"
      ]
     },
     "execution_count": 16,
     "metadata": {},
     "output_type": "execute_result"
    }
   ],
   "source": [
    "%%sql\n",
    "SELECT *\n",
    "FROM students"
   ]
  },
  {
   "cell_type": "code",
   "execution_count": 23,
   "id": "62f09fa8",
   "metadata": {},
   "outputs": [
    {
     "name": "stdout",
     "output_type": "stream",
     "text": [
      " * sqlite:///lab3.db3\n",
      "Done.\n"
     ]
    },
    {
     "data": {
      "text/html": [
       "<table>\n",
       "    <thead>\n",
       "        <tr>\n",
       "            <th>tno</th>\n",
       "            <th>tname</th>\n",
       "            <th>tgender</th>\n",
       "            <th>tbirthday</th>\n",
       "            <th>title</th>\n",
       "            <th>department</th>\n",
       "        </tr>\n",
       "    </thead>\n",
       "    <tbody>\n",
       "        <tr>\n",
       "            <td>804</td>\n",
       "            <td>Dan</td>\n",
       "            <td>M</td>\n",
       "            <td>1958-12-02</td>\n",
       "            <td>AP</td>\n",
       "            <td>CS</td>\n",
       "        </tr>\n",
       "        <tr>\n",
       "            <td>856</td>\n",
       "            <td>Frank</td>\n",
       "            <td>M</td>\n",
       "            <td>1969-03-12</td>\n",
       "            <td>LE</td>\n",
       "            <td>EE</td>\n",
       "        </tr>\n",
       "        <tr>\n",
       "            <td>825</td>\n",
       "            <td>Alice</td>\n",
       "            <td>F</td>\n",
       "            <td>1999-05-05</td>\n",
       "            <td>TA</td>\n",
       "            <td>CS</td>\n",
       "        </tr>\n",
       "        <tr>\n",
       "            <td>831</td>\n",
       "            <td>Emma</td>\n",
       "            <td>F</td>\n",
       "            <td>1997-08-14</td>\n",
       "            <td>TA</td>\n",
       "            <td>EE</td>\n",
       "        </tr>\n",
       "        <tr>\n",
       "            <td>856</td>\n",
       "            <td>Frank</td>\n",
       "            <td>M</td>\n",
       "            <td>1969-03-12</td>\n",
       "            <td>AP</td>\n",
       "            <td>CS</td>\n",
       "        </tr>\n",
       "        <tr>\n",
       "            <td>831</td>\n",
       "            <td>Emma</td>\n",
       "            <td>F</td>\n",
       "            <td>1997-08-14</td>\n",
       "            <td>LE</td>\n",
       "            <td>CS</td>\n",
       "        </tr>\n",
       "    </tbody>\n",
       "</table>"
      ],
      "text/plain": [
       "[(804, 'Dan', 'M', '1958-12-02', 'AP', 'CS'),\n",
       " (856, 'Frank', 'M', '1969-03-12', 'LE', 'EE'),\n",
       " (825, 'Alice', 'F', '1999-05-05', 'TA', 'CS'),\n",
       " (831, 'Emma', 'F', '1997-08-14', 'TA', 'EE'),\n",
       " (856, 'Frank', 'M', '1969-03-12', 'AP', 'CS'),\n",
       " (831, 'Emma', 'F', '1997-08-14', 'LE', 'CS')]"
      ]
     },
     "execution_count": 23,
     "metadata": {},
     "output_type": "execute_result"
    }
   ],
   "source": [
    "%%sql\n",
    "SELECT *\n",
    "FROM teachers"
   ]
  },
  {
   "cell_type": "markdown",
   "id": "139c1ee7",
   "metadata": {},
   "source": [
    "Q1: In the score table, find the student number that has all the grades in between 90 and 70."
   ]
  },
  {
   "cell_type": "code",
   "execution_count": 13,
   "id": "09df4eda",
   "metadata": {},
   "outputs": [
    {
     "name": "stdout",
     "output_type": "stream",
     "text": [
      " * sqlite:///lab3.db3\n",
      "Done.\n"
     ]
    },
    {
     "data": {
      "text/html": [
       "<table>\n",
       "    <thead>\n",
       "        <tr>\n",
       "            <th>sno</th>\n",
       "        </tr>\n",
       "    </thead>\n",
       "    <tbody>\n",
       "        <tr>\n",
       "            <td>105</td>\n",
       "        </tr>\n",
       "        <tr>\n",
       "            <td>108</td>\n",
       "        </tr>\n",
       "    </tbody>\n",
       "</table>"
      ],
      "text/plain": [
       "[('105',), ('108',)]"
      ]
     },
     "execution_count": 13,
     "metadata": {},
     "output_type": "execute_result"
    }
   ],
   "source": [
    "%%sql \n",
    "SELECT sno \n",
    "FROM scores \n",
    "WHERE grade>70 and grade <90\n",
    "except \n",
    "SELECT sno \n",
    "FROM scores\n",
    "WHERE grade<70 or grade >90"
   ]
  },
  {
   "cell_type": "markdown",
   "id": "d2ecf0a7",
   "metadata": {},
   "source": [
    "Q2: For all the courses that took by class 15033, calculate the average grade."
   ]
  },
  {
   "cell_type": "code",
   "execution_count": 20,
   "id": "fece396e",
   "metadata": {},
   "outputs": [
    {
     "name": "stdout",
     "output_type": "stream",
     "text": [
      " * sqlite:///lab3.db3\n",
      "Done.\n"
     ]
    },
    {
     "data": {
      "text/html": [
       "<table>\n",
       "    <thead>\n",
       "        <tr>\n",
       "            <th>AVG(grade)</th>\n",
       "        </tr>\n",
       "    </thead>\n",
       "    <tbody>\n",
       "        <tr>\n",
       "            <td>79.66666666666667</td>\n",
       "        </tr>\n",
       "    </tbody>\n",
       "</table>"
      ],
      "text/plain": [
       "[(79.66666666666667,)]"
      ]
     },
     "execution_count": 20,
     "metadata": {},
     "output_type": "execute_result"
    }
   ],
   "source": [
    "%%sql\n",
    "SELECT AVG(grade) \n",
    "FROM scores, students\n",
    "WHERE students.class=15033 AND students.sno=scores.sno"
   ]
  },
  {
   "cell_type": "markdown",
   "id": "a166576b",
   "metadata": {},
   "source": [
    "Q3: Find the class number that has at least two male students."
   ]
  },
  {
   "cell_type": "code",
   "execution_count": 22,
   "id": "853b3486",
   "metadata": {},
   "outputs": [
    {
     "name": "stdout",
     "output_type": "stream",
     "text": [
      " * sqlite:///lab3.db3\n",
      "Done.\n"
     ]
    },
    {
     "data": {
      "text/html": [
       "<table>\n",
       "    <thead>\n",
       "        <tr>\n",
       "            <th>class</th>\n",
       "        </tr>\n",
       "    </thead>\n",
       "    <tbody>\n",
       "        <tr>\n",
       "            <td>15031</td>\n",
       "        </tr>\n",
       "        <tr>\n",
       "            <td>15033</td>\n",
       "        </tr>\n",
       "    </tbody>\n",
       "</table>"
      ],
      "text/plain": [
       "[('15031',), ('15033',)]"
      ]
     },
     "execution_count": 22,
     "metadata": {},
     "output_type": "execute_result"
    }
   ],
   "source": [
    "%%sql\n",
    "SELECT class\n",
    "FROM students\n",
    "WHERE sgender='M'\n",
    "GROUP BY class\n",
    "HAVING count(*)>=2"
   ]
  },
  {
   "cell_type": "markdown",
   "id": "874ab57b",
   "metadata": {},
   "source": [
    "Q4: Find the teacher's name who teaches in both CS and EE department, but has different titles. Return both name and title."
   ]
  },
  {
   "cell_type": "code",
   "execution_count": 27,
   "id": "18844ed6",
   "metadata": {},
   "outputs": [
    {
     "name": "stdout",
     "output_type": "stream",
     "text": [
      " * sqlite:///lab3.db3\n",
      "Done.\n"
     ]
    },
    {
     "data": {
      "text/html": [
       "<table>\n",
       "    <thead>\n",
       "        <tr>\n",
       "            <th>tname</th>\n",
       "            <th>title</th>\n",
       "        </tr>\n",
       "    </thead>\n",
       "    <tbody>\n",
       "        <tr>\n",
       "            <td>Frank</td>\n",
       "            <td>AP</td>\n",
       "        </tr>\n",
       "        <tr>\n",
       "            <td>Emma</td>\n",
       "            <td>LE</td>\n",
       "        </tr>\n",
       "    </tbody>\n",
       "</table>"
      ],
      "text/plain": [
       "[('Frank', 'AP'), ('Emma', 'LE')]"
      ]
     },
     "execution_count": 27,
     "metadata": {},
     "output_type": "execute_result"
    }
   ],
   "source": [
    "%%sql\n",
    "SELECT s1.tname, s1.title\n",
    "FROM (select * \n",
    "      from teachers\n",
    "      where department=\"CS\")s1, \n",
    "     (select * \n",
    "      from teachers\n",
    "      where department=\"EE\") s2\n",
    "WHERE s1.title<>s2.title and s1.tno=s2.tno"
   ]
  },
  {
   "cell_type": "markdown",
   "id": "b2e017eb",
   "metadata": {},
   "source": [
    "Q5: Find the students, who took the course number \"3-105\" and have earned a grade, at least, higher than the students who took \"3245\" course. Return the results in a descending order of grade."
   ]
  },
  {
   "cell_type": "code",
   "execution_count": 36,
   "id": "b67bf78f",
   "metadata": {},
   "outputs": [
    {
     "name": "stdout",
     "output_type": "stream",
     "text": [
      " * sqlite:///lab3.db3\n",
      "Done.\n"
     ]
    },
    {
     "data": {
      "text/html": [
       "<table>\n",
       "    <thead>\n",
       "        <tr>\n",
       "            <th>sno</th>\n",
       "        </tr>\n",
       "    </thead>\n",
       "    <tbody>\n",
       "        <tr>\n",
       "            <td>103</td>\n",
       "        </tr>\n",
       "        <tr>\n",
       "            <td>107</td>\n",
       "        </tr>\n",
       "        <tr>\n",
       "            <td>105</td>\n",
       "        </tr>\n",
       "    </tbody>\n",
       "</table>"
      ],
      "text/plain": [
       "[('103',), ('107',), ('105',)]"
      ]
     },
     "execution_count": 36,
     "metadata": {},
     "output_type": "execute_result"
    }
   ],
   "source": [
    "%%sql\n",
    "SELECT sno\n",
    "FROM  scores \n",
    "WHERE grade>(SELECT max(grade) --find the highest score in 3-245\n",
    "              FROM scores\n",
    "              WHERE cno=\"3-245\") and cno=\"3-105\"\n",
    "ORDER BY grade DESC"
   ]
  },
  {
   "cell_type": "markdown",
   "id": "946eeac5",
   "metadata": {},
   "source": [
    "Q6: Find the students, who took more than 1 course, and return the students' names that is not the one with highest grade."
   ]
  },
  {
   "cell_type": "code",
   "execution_count": 41,
   "id": "461ff066",
   "metadata": {},
   "outputs": [
    {
     "name": "stdout",
     "output_type": "stream",
     "text": [
      " * sqlite:///lab3.db3\n",
      "Done.\n"
     ]
    },
    {
     "data": {
      "text/html": [
       "<table>\n",
       "    <thead>\n",
       "        <tr>\n",
       "            <th>sname</th>\n",
       "        </tr>\n",
       "    </thead>\n",
       "    <tbody>\n",
       "        <tr>\n",
       "            <td>Alex</td>\n",
       "        </tr>\n",
       "        <tr>\n",
       "            <td>Gary</td>\n",
       "        </tr>\n",
       "        <tr>\n",
       "            <td>Lily</td>\n",
       "        </tr>\n",
       "        <tr>\n",
       "            <td>Peter</td>\n",
       "        </tr>\n",
       "        <tr>\n",
       "            <td>Eva</td>\n",
       "        </tr>\n",
       "    </tbody>\n",
       "</table>"
      ],
      "text/plain": [
       "[('Alex',), ('Gary',), ('Lily',), ('Peter',), ('Eva',)]"
      ]
     },
     "execution_count": 41,
     "metadata": {},
     "output_type": "execute_result"
    }
   ],
   "source": [
    "%%sql\n",
    "SELECT sname\n",
    "FROM students, scores\n",
    "WHERE students.sno=scores.sno\n",
    "GROUP BY scores.sno\n",
    "HAVING count(scores.cno)>1 and grade<>(SELECT max(s.grade) from scores s)"
   ]
  },
  {
   "cell_type": "markdown",
   "id": "d9306618",
   "metadata": {},
   "source": [
    "Q7: For each course, find the students who earned a grade less than the average grade of this course."
   ]
  },
  {
   "cell_type": "code",
   "execution_count": 46,
   "id": "dc852cd6",
   "metadata": {},
   "outputs": [
    {
     "name": "stdout",
     "output_type": "stream",
     "text": [
      " * sqlite:///lab3.db3\n",
      "Done.\n"
     ]
    },
    {
     "data": {
      "text/html": [
       "<table>\n",
       "    <thead>\n",
       "        <tr>\n",
       "            <th>sno</th>\n",
       "        </tr>\n",
       "    </thead>\n",
       "    <tbody>\n",
       "        <tr>\n",
       "            <td>105</td>\n",
       "        </tr>\n",
       "        <tr>\n",
       "            <td>109</td>\n",
       "        </tr>\n",
       "        <tr>\n",
       "            <td>109</td>\n",
       "        </tr>\n",
       "        <tr>\n",
       "            <td>101</td>\n",
       "        </tr>\n",
       "        <tr>\n",
       "            <td>108</td>\n",
       "        </tr>\n",
       "        <tr>\n",
       "            <td>108</td>\n",
       "        </tr>\n",
       "    </tbody>\n",
       "</table>"
      ],
      "text/plain": [
       "[('105',), ('109',), ('109',), ('101',), ('108',), ('108',)]"
      ]
     },
     "execution_count": 46,
     "metadata": {},
     "output_type": "execute_result"
    }
   ],
   "source": [
    "%%sql\n",
    "SELECT sno\n",
    "FROM scores,\n",
    "    (SELECT avg(s.grade) as grade,s.cno\n",
    "     FROM scores s\n",
    "     GROUP BY s.cno) avg\n",
    "WHERE scores.grade<avg.grade and scores.cno=avg.cno"
   ]
  },
  {
   "cell_type": "code",
   "execution_count": null,
   "id": "29717fc3",
   "metadata": {},
   "outputs": [],
   "source": []
  }
 ],
 "metadata": {
  "kernelspec": {
   "display_name": "Python 3 (ipykernel)",
   "language": "python",
   "name": "python3"
  },
  "language_info": {
   "codemirror_mode": {
    "name": "ipython",
    "version": 3
   },
   "file_extension": ".py",
   "mimetype": "text/x-python",
   "name": "python",
   "nbconvert_exporter": "python",
   "pygments_lexer": "ipython3",
   "version": "3.9.7"
  }
 },
 "nbformat": 4,
 "nbformat_minor": 5
}
