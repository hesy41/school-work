{
 "cells": [
  {
   "cell_type": "markdown",
   "id": "d3ae1fb7",
   "metadata": {},
   "source": [
    "# Siyi He\n",
    "## My partner: Shadman Sakib"
   ]
  },
  {
   "cell_type": "code",
   "execution_count": 5,
   "id": "78cee345",
   "metadata": {},
   "outputs": [
    {
     "name": "stdout",
     "output_type": "stream",
     "text": [
      "The sql extension is already loaded. To reload it, use:\n",
      "  %reload_ext sql\n"
     ]
    }
   ],
   "source": [
    "%load_ext sql"
   ]
  },
  {
   "cell_type": "code",
   "execution_count": 6,
   "id": "869e8862",
   "metadata": {},
   "outputs": [
    {
     "data": {
      "text/plain": [
       "'Connected: @lab1.db3'"
      ]
     },
     "execution_count": 6,
     "metadata": {},
     "output_type": "execute_result"
    }
   ],
   "source": [
    "%sql sqlite:///lab1.db3"
   ]
  },
  {
   "cell_type": "markdown",
   "id": "d294beaa",
   "metadata": {},
   "source": [
    "comment: we load sql extension and connect to the lab1 database"
   ]
  },
  {
   "cell_type": "code",
   "execution_count": 24,
   "id": "691bb69e",
   "metadata": {},
   "outputs": [
    {
     "name": "stdout",
     "output_type": "stream",
     "text": [
      " * sqlite:///lab1.db3\n",
      "Done.\n",
      "Done.\n",
      "1 rows affected.\n",
      "1 rows affected.\n",
      "1 rows affected.\n",
      "1 rows affected.\n",
      "1 rows affected.\n",
      "1 rows affected.\n",
      "1 rows affected.\n",
      "1 rows affected.\n",
      "1 rows affected.\n"
     ]
    },
    {
     "data": {
      "text/plain": [
       "[]"
      ]
     },
     "execution_count": 24,
     "metadata": {},
     "output_type": "execute_result"
    }
   ],
   "source": [
    "%%sql drop table if exists MyGraph;\n",
    "create table MyGraph( \n",
    "      source int,\n",
    "      destination int);\n",
    "\n",
    "insert into MyGraph values(5,11);\n",
    "insert into MyGraph values(11,2);\n",
    "insert into MyGraph values(11,9);\n",
    "insert into MyGraph values(11,10);\n",
    "insert into MyGraph values(7,11);\n",
    "insert into MyGraph values(7,8);\n",
    "insert into MyGraph values(8,9);\n",
    "insert into MyGraph values(3,8);\n",
    "insert into MyGraph values(3,10);\n",
    "\n"
   ]
  },
  {
   "cell_type": "markdown",
   "id": "1a560c9d",
   "metadata": {},
   "source": [
    "Q1: create a table called Mygraph and store all the source-destination relation in the schema. Since we need to compare the value later, I store all value in integer type.\n",
    "Q2: use \"insert into\" to store the graph in the table"
   ]
  },
  {
   "cell_type": "code",
   "execution_count": 25,
   "id": "8d150136",
   "metadata": {},
   "outputs": [
    {
     "name": "stdout",
     "output_type": "stream",
     "text": [
      " * sqlite:///lab1.db3\n",
      "Done.\n"
     ]
    },
    {
     "data": {
      "text/html": [
       "<table>\n",
       "    <thead>\n",
       "        <tr>\n",
       "            <th>source</th>\n",
       "        </tr>\n",
       "    </thead>\n",
       "    <tbody>\n",
       "        <tr>\n",
       "            <td>5</td>\n",
       "        </tr>\n",
       "        <tr>\n",
       "            <td>11</td>\n",
       "        </tr>\n",
       "        <tr>\n",
       "            <td>7</td>\n",
       "        </tr>\n",
       "        <tr>\n",
       "            <td>8</td>\n",
       "        </tr>\n",
       "        <tr>\n",
       "            <td>3</td>\n",
       "        </tr>\n",
       "    </tbody>\n",
       "</table>"
      ],
      "text/plain": [
       "[(5,), (11,), (7,), (8,), (3,)]"
      ]
     },
     "execution_count": 25,
     "metadata": {},
     "output_type": "execute_result"
    }
   ],
   "source": [
    "%%sql Select distinct source\n",
    "From MyGraph"
   ]
  },
  {
   "cell_type": "markdown",
   "id": "192f3581",
   "metadata": {},
   "source": [
    "Q3: to return all \"source\" in the table, I used a select. To avoid duplicat, I add the key work distinct which can delete duplicate source"
   ]
  },
  {
   "cell_type": "code",
   "execution_count": 26,
   "id": "8bfbd4a1",
   "metadata": {},
   "outputs": [
    {
     "name": "stdout",
     "output_type": "stream",
     "text": [
      " * sqlite:///lab1.db3\n",
      "Done.\n"
     ]
    },
    {
     "data": {
      "text/html": [
       "<table>\n",
       "    <thead>\n",
       "        <tr>\n",
       "            <th>source</th>\n",
       "            <th>destination</th>\n",
       "        </tr>\n",
       "    </thead>\n",
       "    <tbody>\n",
       "        <tr>\n",
       "            <td>11</td>\n",
       "            <td>2</td>\n",
       "        </tr>\n",
       "        <tr>\n",
       "            <td>11</td>\n",
       "            <td>9</td>\n",
       "        </tr>\n",
       "        <tr>\n",
       "            <td>11</td>\n",
       "            <td>10</td>\n",
       "        </tr>\n",
       "    </tbody>\n",
       "</table>"
      ],
      "text/plain": [
       "[(11, 2), (11, 9), (11, 10)]"
      ]
     },
     "execution_count": 26,
     "metadata": {},
     "output_type": "execute_result"
    }
   ],
   "source": [
    "%%sql Select *\n",
    "From MyGraph\n",
    "where source > destination "
   ]
  },
  {
   "cell_type": "markdown",
   "id": "f28b7406",
   "metadata": {},
   "source": [
    "Q4: returns all edges which the source id is larger than the destination id."
   ]
  },
  {
   "cell_type": "code",
   "execution_count": 27,
   "id": "1228123b",
   "metadata": {},
   "outputs": [
    {
     "name": "stdout",
     "output_type": "stream",
     "text": [
      " * sqlite:///lab1.db3\n",
      "Done.\n"
     ]
    },
    {
     "data": {
      "text/plain": [
       "[]"
      ]
     },
     "execution_count": 27,
     "metadata": {},
     "output_type": "execute_result"
    }
   ],
   "source": [
    "%%sql ALTER TABLE MyGraph\n",
    "ADD weight int;"
   ]
  },
  {
   "cell_type": "markdown",
   "id": "bc9f5831",
   "metadata": {},
   "source": [
    "Q5: add a column of weight to each link on the direct graph with alter table and we add weight"
   ]
  },
  {
   "cell_type": "code",
   "execution_count": 29,
   "id": "ba5611b3",
   "metadata": {},
   "outputs": [
    {
     "name": "stdout",
     "output_type": "stream",
     "text": [
      " * sqlite:///lab1.db3\n",
      "9 rows affected.\n"
     ]
    },
    {
     "data": {
      "text/plain": [
       "[]"
      ]
     },
     "execution_count": 29,
     "metadata": {},
     "output_type": "execute_result"
    }
   ],
   "source": [
    "%%sql \n",
    "Update MyGraph \n",
    "set weight = abs(random()%10);"
   ]
  },
  {
   "cell_type": "markdown",
   "id": "84960b98",
   "metadata": {},
   "source": [
    "Q6: update weight with random generated number with the build-in function abs(random())"
   ]
  },
  {
   "cell_type": "code",
   "execution_count": 30,
   "id": "cb8f0074",
   "metadata": {},
   "outputs": [
    {
     "name": "stdout",
     "output_type": "stream",
     "text": [
      " * sqlite:///lab1.db3\n",
      "Done.\n"
     ]
    },
    {
     "data": {
      "text/html": [
       "<table>\n",
       "    <thead>\n",
       "        <tr>\n",
       "            <th>weight</th>\n",
       "        </tr>\n",
       "    </thead>\n",
       "    <tbody>\n",
       "        <tr>\n",
       "            <td>8</td>\n",
       "        </tr>\n",
       "        <tr>\n",
       "            <td>1</td>\n",
       "        </tr>\n",
       "        <tr>\n",
       "            <td>3</td>\n",
       "        </tr>\n",
       "        <tr>\n",
       "            <td>9</td>\n",
       "        </tr>\n",
       "        <tr>\n",
       "            <td>7</td>\n",
       "        </tr>\n",
       "    </tbody>\n",
       "</table>"
      ],
      "text/plain": [
       "[(8,), (1,), (3,), (9,), (7,)]"
      ]
     },
     "execution_count": 30,
     "metadata": {},
     "output_type": "execute_result"
    }
   ],
   "source": [
    "%%sql\n",
    "select distinct weight\n",
    "from MyGraph"
   ]
  },
  {
   "cell_type": "markdown",
   "id": "851ff07f",
   "metadata": {},
   "source": [
    "Q7: to return distinct value of weight, i used select distinct weight to filter out the distinct weight value"
   ]
  }
 ],
 "metadata": {
  "kernelspec": {
   "display_name": "Python 3 (ipykernel)",
   "language": "python",
   "name": "python3"
  },
  "language_info": {
   "codemirror_mode": {
    "name": "ipython",
    "version": 3
   },
   "file_extension": ".py",
   "mimetype": "text/x-python",
   "name": "python",
   "nbconvert_exporter": "python",
   "pygments_lexer": "ipython3",
   "version": "3.9.7"
  }
 },
 "nbformat": 4,
 "nbformat_minor": 5
}
