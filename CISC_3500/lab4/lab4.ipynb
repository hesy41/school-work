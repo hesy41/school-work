{
 "cells": [
  {
   "cell_type": "markdown",
   "id": "3c2fd542",
   "metadata": {},
   "source": [
    "Siyi He"
   ]
  },
  {
   "cell_type": "code",
   "execution_count": null,
   "id": "76080cb0",
   "metadata": {},
   "outputs": [],
   "source": [
    "%load_ext sql"
   ]
  },
  {
   "cell_type": "markdown",
   "id": "4d4658be",
   "metadata": {},
   "source": [
    "1. A is a superkey for a relation T (A, B, C, D)."
   ]
  },
  {
   "cell_type": "code",
   "execution_count": 1,
   "id": "7b9c986d",
   "metadata": {},
   "outputs": [
    {
     "name": "stderr",
     "output_type": "stream",
     "text": [
      "UsageError: Cell magic `%%sql` not found.\n"
     ]
    }
   ],
   "source": [
    "%%sql\n",
    "SELECT *\n",
    "FROM table t1, table t2\n",
    "WHERE t1.A=t2.A and (t1.B <> t2.B or t1.C <> t2.C or t1.D <> t2.D)\n",
    "HAVING count(*)>0"
   ]
  },
  {
   "cell_type": "markdown",
   "id": "751fd64a",
   "metadata": {},
   "source": [
    "2. The combinations of two attributes in the relation T (A, B, C, D) are each keys."
   ]
  },
  {
   "cell_type": "code",
   "execution_count": null,
   "id": "e04b5c64",
   "metadata": {},
   "outputs": [],
   "source": [
    "%%sql\n",
    "SELECT *\n",
    "FROM table t1, table t2\n",
    "WHERE (t1.A=t2.A and t1.B=t2.B(t1.C <> t2.C or t1.D <> t2.D))\n",
    "      or(t1.A=t2.A and t1.C=t2.C(t1.B <> t2.B or t1.D <> t2.D))\n",
    "      or(t1.A=t2.A and t1.D=t2.D(t1.C <> t2.C or t1.B <> t2.B))\n",
    "    or(t1.C=t2.C and t1.B=t2.B(t1.A <> t2.A or t1.D <> t2.D))\n",
    "    or(t1.C=t2.C and t1.D=t2.D(t1.A <> t2.A or t1.B <> t2.B))\n",
    "HAVING count(*)>0"
   ]
  },
  {
   "cell_type": "markdown",
   "id": "92a35093",
   "metadata": {},
   "source": [
    "3. A tuple-generating dependency (TGD) between two relations A and B, having some shared attributes X 1 , ..., X n , holds if, for every tuple t A in A, there is some tuple t B in B such that t A [X i ] = t B [X i ] for i = 1, ...n."
   ]
  },
  {
   "cell_type": "code",
   "execution_count": null,
   "id": "e2026408",
   "metadata": {},
   "outputs": [],
   "source": [
    "%%sql\n",
    "SELECT *\n",
    "FROM Sailors S\n",
    "WHERE EXIST S.sid <> ALL (SELECT s.sid\n",
    "                          FROM Sailors s, Reserves R\n",
    "                          Where s.sid=R.sid)"
   ]
  },
  {
   "cell_type": "markdown",
   "id": "c037e32b",
   "metadata": {},
   "source": [
    "4. A multivalued dependency (MVD) is deﬁned as follows: let R be a schema i.e. a set of attributes, and consider two sets of attributes X ⊆ R and Y ⊆ R."
   ]
  },
  {
   "cell_type": "code",
   "execution_count": null,
   "id": "d340dc32",
   "metadata": {},
   "outputs": [],
   "source": [
    "%%sql\n",
    "SELECT *\n",
    "FROM R r1, R r2, R r3\n",
    "WHERE not exist r1.X = r2.X and (r2.X <> r3.X or r3.Y <> r1.Y or (select *\n",
    "                                                                  from r3\n",
    "                                                                  where not exist r3.Y) = (select *\n",
    "                                                                                          from r2\n",
    "                                                                                          where not exist r2.Y))"
   ]
  }
 ],
 "metadata": {
  "kernelspec": {
   "display_name": "Python 3 (ipykernel)",
   "language": "python",
   "name": "python3"
  },
  "language_info": {
   "codemirror_mode": {
    "name": "ipython",
    "version": 3
   },
   "file_extension": ".py",
   "mimetype": "text/x-python",
   "name": "python",
   "nbconvert_exporter": "python",
   "pygments_lexer": "ipython3",
   "version": "3.9.7"
  }
 },
 "nbformat": 4,
 "nbformat_minor": 5
}
